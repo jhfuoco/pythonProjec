{
 "cells": [
  {
   "cell_type": "raw",
   "id": "46a3536c-33a4-482f-b7b6-2f822fd0b3ba",
   "metadata": {},
   "source": [
    "https://finance.naver.com/marketindex/exchangeList.naver"
   ]
  },
  {
   "cell_type": "code",
   "execution_count": 1,
   "id": "74cd43c9-f53e-4727-a8bf-2c0471043ebb",
   "metadata": {},
   "outputs": [],
   "source": [
    "import requests\n",
    "from bs4 import BeautifulSoup"
   ]
  },
  {
   "cell_type": "code",
   "execution_count": 29,
   "id": "0ee5a7b5-436e-43ea-ab6d-2b0d6eb50528",
   "metadata": {},
   "outputs": [
    {
     "name": "stdout",
     "output_type": "stream",
     "text": [
      "[('미국 USD', 1314.0), ('유럽연합 EUR', 1427.27), ('일본 JPY (100엔)', 985.78), ('중국 CNY', 190.65), ('홍콩 HKD', 167.39), ('대만 TWD', 42.95), ('영국 GBP', 1623.51), ('오만 OMR', 3413.16), ('캐나다 CAD', 974.56), ('스위스 CHF', 1433.56), ('스웨덴 SEK', 126.64), ('호주 AUD', 882.55), ('뉴질랜드 NZD', 821.18), ('체코 CZK', 60.88), ('칠레 CLP', 1.65), ('튀르키예 TRY', 68.43), ('몽골 MNT', 0.37), ('이스라엘 ILS', 365.61), ('덴마크 DKK', 191.58), ('노르웨이 NOK', 126.37), ('사우디아라비아 SAR', 350.29), ('쿠웨이트 KWD', 4281.39), ('바레인 BHD', 3485.32), ('아랍에미리트 AED', 357.78), ('요르단 JOD', 1852.4), ('이집트 EGP', 42.46), ('태국 THB', 38.21), ('싱가포르 SGD', 987.12), ('말레이시아 MYR', 297.35), ('인도네시아 IDR 100', 8.8), ('카타르 QAR', 359.52), ('카자흐스탄 KZT', 2.9), ('브루나이 BND', 987.12), ('인도 INR', 15.96), ('파키스탄 PKR', 4.61), ('방글라데시 BDT', 12.48), ('필리핀 PHP', 24.0), ('멕시코 MXN', 73.04), ('브라질 BRL', 259.49), ('베트남 VND 100', 5.6), ('남아프리카 공화국 ZAR', 73.6), ('러시아 RUB', 16.84), ('헝가리 HUF', 3.77), ('폴란드 PLN', 305.21), ('스리랑카 LKR', 4.08), ('알제리 DZD', 9.67), ('케냐 KES', 9.9), ('콜롬비아 COP', 0.28), ('탄자니아 TZS', 0.56), ('네팔 NPR', 9.97), ('루마니아 RON', 288.79), ('리비아 LYD', 274.89), ('마카오 MOP', 162.52), ('미얀마 MMK', 0.63), ('에티오피아 ETB', 24.15), ('우즈베키스탄 UZS', 0.12), ('캄보디아 KHR', 0.32), ('피지 FJD', 595.11)]\n"
     ]
    }
   ],
   "source": [
    "url = 'https://finance.naver.com/marketindex/exchangeList.naver'\n",
    "r = requests.get(url).text\n",
    "soup = BeautifulSoup(r,'lxml')\n",
    "name = []\n",
    "price = []\n",
    "\n",
    "data = soup.select('td.tit > a')\n",
    "# print(data)\n",
    "for item in data:\n",
    "    # print(item.string.strip())\n",
    "    name.append(item.string.strip())\n",
    "    \n",
    "data = soup.select('td.sale')\n",
    "# print(data)\n",
    "for item in data:\n",
    "    # print(item.string)\n",
    "    price.append(float(item.string.replace(',','')))\n",
    "# print(price)\n",
    "# # print(len(name), len(price)) # 개수 비교\n",
    "items = list(zip(name,price))\n",
    "print(items)"
   ]
  }
 ],
 "metadata": {
  "kernelspec": {
   "display_name": "conda_django_kernel",
   "language": "python",
   "name": "conda_django_kernel"
  },
  "language_info": {
   "codemirror_mode": {
    "name": "ipython",
    "version": 3
   },
   "file_extension": ".py",
   "mimetype": "text/x-python",
   "name": "python",
   "nbconvert_exporter": "python",
   "pygments_lexer": "ipython3",
   "version": "3.9.16"
  }
 },
 "nbformat": 4,
 "nbformat_minor": 5
}
