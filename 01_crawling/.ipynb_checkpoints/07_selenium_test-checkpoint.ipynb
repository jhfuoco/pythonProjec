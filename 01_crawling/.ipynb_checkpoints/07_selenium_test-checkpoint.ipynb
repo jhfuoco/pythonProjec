{
 "cells": [
  {
   "cell_type": "code",
   "execution_count": 2,
   "id": "d0725652-e593-4451-b31b-b38edfbef05a",
   "metadata": {},
   "outputs": [],
   "source": [
    "from selenium import webdriver\n",
    "import time"
   ]
  },
  {
   "cell_type": "code",
   "execution_count": 10,
   "id": "ad0cf41c-0215-4bd5-a31a-462048b59466",
   "metadata": {},
   "outputs": [],
   "source": [
    "driver = webdriver.Chrome(executable_path='C:/back/tutorial/01_crawling/chromedriver.exe')\n",
    "driver.implicitly_wait(10)\n",
    "driver.get('https://www.naver.com')\n",
    "time.sleep(5)\n",
    "driver.get('https://www.google.co.kr')\n",
    "time.sleep(5)\n",
    "driver.get('https://www.daum.net/')\n",
    "time.sleep(5)\n",
    "driver.back()\n",
    "driver.fullscreen_window()\n",
    "time.sleep(3)\n",
    "driver.back()\n",
    "driver.set_window_rect(100,100,800,800)\n",
    "time.sleep(3)\n",
    "driver.forward()\n",
    "time.sleep(3)\n",
    "driver.quit()"
   ]
  },
  {
   "cell_type": "code",
   "execution_count": 11,
   "id": "9e60bca1-353d-49b4-a7a9-dfd22f1491c2",
   "metadata": {},
   "outputs": [],
   "source": [
    "from selenium import webdriver\n",
    "import time\n",
    "from selenium.webdriver.common.by import By\n",
    "from selenium.webdriver.common.keys import Keys"
   ]
  },
  {
   "cell_type": "code",
   "execution_count": 17,
   "id": "fb625c9b-5c28-4822-82a5-c88855ae2326",
   "metadata": {},
   "outputs": [],
   "source": [
    "driver = webdriver.Chrome()\n",
    "driver.get('https://www.naver.com')\n",
    "time.sleep(5)\n",
    "search = driver.find_element(By.ID, 'query') #(찾는 방법, 찾을 것)\n",
    "# print(type(search))\n",
    "# print(search)\n",
    "search.send_keys('봄')\n",
    "search.send_keys(Keys.ENTER)\n",
    "item = driver.find_element(By.CSS_SELECTOR,'ul.base > li.menu:nth-child(2)')\n",
    "item.click()"
   ]
  }
 ],
 "metadata": {
  "kernelspec": {
   "display_name": "conda_django_kernel",
   "language": "python",
   "name": "conda_django_kernel"
  },
  "language_info": {
   "codemirror_mode": {
    "name": "ipython",
    "version": 3
   },
   "file_extension": ".py",
   "mimetype": "text/x-python",
   "name": "python",
   "nbconvert_exporter": "python",
   "pygments_lexer": "ipython3",
   "version": "3.9.16"
  }
 },
 "nbformat": 4,
 "nbformat_minor": 5
}
