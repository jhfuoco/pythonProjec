{
 "cells": [
  {
   "cell_type": "raw",
   "id": "46a3536c-33a4-482f-b7b6-2f822fd0b3ba",
   "metadata": {},
   "source": [
    "https://finance.naver.com/marketindex/exchangeList.naver"
   ]
  },
  {
   "cell_type": "code",
   "execution_count": 1,
   "id": "74cd43c9-f53e-4727-a8bf-2c0471043ebb",
   "metadata": {},
   "outputs": [],
   "source": [
    "import requests\n",
    "from bs4 import BeautifulSoup"
   ]
  },
  {
   "cell_type": "code",
   "execution_count": 18,
   "id": "0ee5a7b5-436e-43ea-ab6d-2b0d6eb50528",
   "metadata": {},
   "outputs": [
    {
     "name": "stdout",
     "output_type": "stream",
     "text": [
      "[('미국 USD', 1315.0), ('유럽연합 EUR', 1424.67), ('일본 JPY (100엔)', 985.35), ('중국 CNY', 190.81), ('홍콩 HKD', 167.52), ('대만 TWD', 42.93), ('영국 GBP', 1619.69), ('오만 OMR', 3415.67), ('캐나다 CAD', 974.43), ('스위스 CHF', 1432.62), ('스웨덴 SEK', 126.54), ('호주 AUD', 880.26), ('뉴질랜드 NZD', 819.51), ('체코 CZK', 60.72), ('칠레 CLP', 1.65), ('튀르키예 TRY', 68.47), ('몽골 MNT', 0.37), ('이스라엘 ILS', 365.21), ('덴마크 DKK', 191.24), ('노르웨이 NOK', 126.21), ('사우디아라비아 SAR', 350.35), ('쿠웨이트 KWD', 4283.11), ('바레인 BHD', 3488.06), ('아랍에미리트 AED', 358.06), ('요르단 JOD', 1853.81), ('이집트 EGP', 42.56), ('태국 THB', 38.22), ('싱가포르 SGD', 986.98), ('말레이시아 MYR', 297.46), ('인도네시아 IDR 100', 8.8), ('카타르 QAR', 358.28), ('카자흐스탄 KZT', 2.9), ('브루나이 BND', 986.98), ('인도 INR', 15.96), ('파키스탄 PKR', 4.62), ('방글라데시 BDT', 12.49), ('필리핀 PHP', 24.04), ('멕시코 MXN', 73.05), ('브라질 BRL', 259.69), ('베트남 VND 100', 5.61), ('남아프리카 공화국 ZAR', 73.38), ('러시아 RUB', 16.93), ('헝가리 HUF', 3.74), ('폴란드 PLN', 304.52), ('스리랑카 LKR', 4.05), ('알제리 DZD', 9.67), ('케냐 KES', 9.92), ('콜롬비아 COP', 0.28), ('탄자니아 TZS', 0.56), ('네팔 NPR', 9.98), ('루마니아 RON', 288.23), ('리비아 LYD', 275.1), ('마카오 MOP', 162.65), ('미얀마 MMK', 0.63), ('에티오피아 ETB', 24.17), ('우즈베키스탄 UZS', 0.12), ('캄보디아 KHR', 0.32), ('피지 FJD', 594.51)]\n"
     ]
    }
   ],
   "source": [
    "url = 'https://finance.naver.com/marketindex/exchangeList.naver'\n",
    "r = requests.get(url).text\n",
    "soup = BeautifulSoup(r,'lxml')\n",
    "name = []\n",
    "price = []\n",
    "\n",
    "data = soup.select('td.tit > a')\n",
    "# print(data)\n",
    "for item in data:\n",
    "    # print(item.string.strip())\n",
    "    name.append(item.string.strip())\n",
    "    \n",
    "data = soup.select('td.sale')\n",
    "# print(data)\n",
    "for item in data:\n",
    "    # print(item.string)\n",
    "    price.append(float(item.string.replace(',','')))\n",
    "# print(price)\n",
    "# print(len(name), len(price)) # 개수 비교\n",
    "items = list(zip(name,price))\n",
    "print(items)"
   ]
  }
 ],
 "metadata": {
  "kernelspec": {
   "display_name": "conda_django_kernel",
   "language": "python",
   "name": "conda_django_kernel"
  },
  "language_info": {
   "codemirror_mode": {
    "name": "ipython",
    "version": 3
   },
   "file_extension": ".py",
   "mimetype": "text/x-python",
   "name": "python",
   "nbconvert_exporter": "python",
   "pygments_lexer": "ipython3",
   "version": "3.9.16"
  }
 },
 "nbformat": 4,
 "nbformat_minor": 5
}
