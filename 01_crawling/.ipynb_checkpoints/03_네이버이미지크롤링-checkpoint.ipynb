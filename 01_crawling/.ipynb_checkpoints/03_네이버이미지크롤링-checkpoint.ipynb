{
 "cells": [
  {
   "cell_type": "raw",
   "id": "04e1d3d6-fda5-4602-9cf3-5e252318714a",
   "metadata": {},
   "source": [
    "네이버 이미지에서 검색키워드를 입력받아서 검색한 다음 이미지 결과에서\n",
    "이미지를 10개 정도 다운로드 받아서 img 폴더에 저장하세요"
   ]
  },
  {
   "cell_type": "code",
   "execution_count": 12,
   "id": "2cd5bf5e-6d28-49f0-92b4-a6cf8b450963",
   "metadata": {},
   "outputs": [],
   "source": [
    "import requests\n",
    "from urllib import request\n",
    "from bs4 import BeautifulSoup"
   ]
  },
  {
   "cell_type": "code",
   "execution_count": 29,
   "id": "e41940b3-ca2c-414b-ad25-7c161dc4636f",
   "metadata": {},
   "outputs": [
    {
     "name": "stdin",
     "output_type": "stream",
     "text": [
      "검색어 >>>  봄\n"
     ]
    },
    {
     "name": "stdout",
     "output_type": "stream",
     "text": [
      "https://search.pstatic.net/common/?src=http%3A%2F%2Fcafefiles.naver.net%2FMjAyMTAyMjhfMTU1%2FMDAxNjE0NDY5NjQzMTcw.YhwEgIQB_QTRGwRXWVNW50MwLxdSUt-iTuE5snyEhl0g.MF8kozbobjg4IQaNw6CvGJy1ZG2RYCZ7M4S3mGGbpD4g.JPEG%2F16144695598924905842576595907778.jpg&type=f54_54\n",
      "https://search.pstatic.net/common/?src=http%3A%2F%2Fblogfiles.naver.net%2FMjAyMjAzMDdfMTY2%2FMDAxNjQ2NjEzNTU4OTMx.jtI5WTGhkp-FPP0mPxXa9LoQwrHB4rU_0IpvtD7awm4g.peBwo-39I5RREUeoiIP0bIoW-HEIXGv5uFW8yvYU2ccg.JPEG.nexusbooks%2F%25BA%25BD.jpg&type=f54_54\n",
      "https://search.pstatic.net/common/?src=http%3A%2F%2Fblogfiles.naver.net%2FMjAyMjAzMThfMTky%2FMDAxNjQ3NTkyNzM4NzYy.8X0SQTGsYCVeBX5fu2leohjz3dOaTvXBiKK1gpz6FPwg.HDHRWPeyhLk0gduZpJvig8BoiUHVK_2z4k1p4E8Vtv4g.PNG.bbalsong%2F%25BA%25BD3%25BF%25F9%25C0%25CE%25BB%25E7%25B9%25AE%25B1%25B8-001.png&type=f54_54\n",
      "https://search.pstatic.net/common/?src=http%3A%2F%2Fblogfiles.naver.net%2FMjAyMjA1MzFfMjk2%2FMDAxNjU0MDA0NDk0NzMy.exvL9O02gz_6hyqbNY5OWvhiDWgI1z91GkvvmjVhwA0g.f0NiD4Fenoyty4AwdXxeh1vgtTekCQk0j-n2y2qI2hQg.JPEG.kst0712%2FDSC_3656.jpg&type=f54_54\n",
      "https://search.pstatic.net/common/?src=http%3A%2F%2Fcafefiles.naver.net%2FMjAyMTAyMjdfOCAg%2FMDAxNjE0Mzg3MzM2MDkx.Ck7a9KlGB98It0XkPSkNmgEpiwHQy_30h94HpGBB4Y8g.xR6v7qCAbXynuvP5TOEMnBvlC_LYnPUXbNh7Zalxfw8g.JPEG%2F%25B4%25D9%25BF%25EE%25B7%25CE%25B5%25E5_%252820%2529.jpg&type=f54_54\n",
      "https://search.pstatic.net/common/?src=http%3A%2F%2Fkinimage.naver.net%2F20210304_110%2F16148481267898GonM_JPEG%2F1614848126550.jpeg&type=f54_54\n",
      "https://search.pstatic.net/common/?src=http%3A%2F%2Fblogfiles.naver.net%2FMjAyMDAzMTJfMTY2%2FMDAxNTgzOTQwMjc1NzMy.MtDrJrEhN-70Jjp_vvbagBFBSj65DeSLwPJeWSeBODUg.gxjr7SbFp5d3ebkNIW7G4FTl5XG4Iey0g9XF4EIGc-Ig.JPEG.sinfo8282%2F04.jpg&type=f54_54\n",
      "https://search.pstatic.net/common/?src=http%3A%2F%2Fblogfiles.naver.net%2FMjAyMTAzMTVfMzYg%2FMDAxNjE1Nzg5NjYxNTk1.UX91mxc0RCTAi7P7ihgts9l1fvGhRa2D_qaX432yCskg.onkaXny7RHdpcqTNhdbYpJPO1BpallPYlhCKkoT1V6Qg.JPEG.sea_7852%2Fjazmin-flowers-with-copyspace-and-blue-background.jpg&type=f54_54\n",
      "https://search.pstatic.net/sunny/?src=https%3A%2F%2Fi.pinimg.com%2F736x%2F7b%2F2d%2Fe8%2F7b2de82e6eefd0d2db92494963d52819.jpg&type=f54_54\n",
      "https://search.pstatic.net/common/?src=http%3A%2F%2Fblogfiles.naver.net%2FMjAyMDAzMTlfMTI2%2FMDAxNTg0NjAwMjUwMTg1.a_p6vUwCTkGZU94O70sk83Xpu3stOP10K-3_KH_hLFIg.PbbWbTpU3k-Pip2k-kf2pNp2SEcsCcdMLHnVJDxgPYQg.PNG.pskms618%2F2020-03-19_15%253B42%253B51.PNG&type=f54_54\n",
      "https://search.pstatic.net/common/?src=http%3A%2F%2Fblogfiles.naver.net%2FMjAyMzAyMDZfODMg%2FMDAxNjc1NjQzNzk5OTY5.zMOx4WuBUHQqJuc1jj1LpsjfqyecyEqY2b5Uq_1RQ7og.273b4L8cpQPyuVIJP6q68bnyTqXkljCf7xgx65mtb_gg.JPEG.kimyongw2%2FKakaoTalk_20230201_195318648_03.jpg&type=f54_54\n",
      "https://search.pstatic.net/common/?src=http%3A%2F%2Fblogfiles.naver.net%2FMjAyMDEwMTBfMjQy%2FMDAxNjAyMjc1MjAyNjMx.RUuYcopLtziccSX9mqhADOVqgLr-p7fhMjvTj9nCjGcg.WiC1YhIn40THjVI8g4JA5klhWlk996w4zKKQesPOQZsg.JPEG.enjell1144%2Fyellow-freesia-flower-delivery.jpg&type=f54_54\n",
      "https://search.pstatic.net/common/?src=http%3A%2F%2Fblogfiles.naver.net%2FMjAxOTA0MTVfNTQg%2FMDAxNTU1Mjg5NjA5NjY1.vAVtxkyl-_xYYEd54ElgX75gjgmVgTmsmGN_6r91hlcg.8AYozp0lxLJWsX77K952HZgD-KUadHsLoqZu8YfBzD4g.JPEG.infogram%2F%25B0%25E8%25C0%25FD_%25C0%25CF%25B7%25AF%25BD%25BA%25C6%25AE_061.jpg&type=f54_54\n",
      "https://search.pstatic.net/common/?src=http%3A%2F%2Fblogfiles.naver.net%2FMjAyMjA1MDZfNyAg%2FMDAxNjUxODA2MjA4ODQ5.seKEXdM_vNNboNqmTio5VVt4MkoV7JtzzOz7GwBv1qQg.ajthuMVSRLylaL5RUnCh3jAXTUIwHlkTWrKBfFojyTgg.JPEG.wlgpdydfur12%2F20220501%25A3%25DF151405%25A3%25DFHDR.jpg&type=f54_54\n",
      "https://search.pstatic.net/common/?src=http%3A%2F%2Fblogfiles.naver.net%2FMjAxOTExMTZfOTkg%2FMDAxNTczODc5NTY5OTI3.a6J8edXTQMNWOAxCYQVy1rji0cGWfxDqEov2GQC3gCUg.W-XRHThii77ybDb8zliyoYzpBAvwtk4TI2Zaidz9l3gg.JPEG.heysi3%2FBeautyPlus_20191116134208219_save.jpg&type=f54_54\n",
      "https://search.pstatic.net/common/?src=http%3A%2F%2Fimage.nmv.naver.net%2Fcafe_2022_05_02_1013%2F47975e30-c9f7-11ec-bdfe-48df37ae3dc4_01.jpg&type=f54_54\n",
      "https://search.pstatic.net/sunny/?src=http%3A%2F%2Fwww.picturebook-illust.com%2Fupload_board%2Fnew_Gallery%2FOriginal%2Fm%2F201732821056.jpg&type=f54_54\n",
      "https://ssl.pstatic.net/sstatic/search/pc/2016/img/blank.gif\n",
      "url오류\n"
     ]
    }
   ],
   "source": [
    "key = input('검색어 >>> ')\n",
    "url = 'https://search.naver.com/search.naver'\n",
    "param = {\n",
    "    'where':'image',\n",
    "    'sm':'tab_jum',\n",
    "    'query':key\n",
    "}\n",
    "r = requests.get(url,params=param)\n",
    "soup = BeautifulSoup(r.text,'lxml')\n",
    "result=soup.find_all('img')\n",
    "\n",
    "for i, item in enumerate(result):\n",
    "    try:\n",
    "        print(item['src'])\n",
    "        index = item['src'].index('&')\n",
    "        # print(index)\n",
    "        src = item['src'][:index]\n",
    "        src_list=src.split('.')[-1]\n",
    "        # print(src_list)\n",
    "        request.urlretrieve(src,'img/'+str(i)+'.'+src_list)\n",
    "        # (받을것, 저장경로)\n",
    "    except:\n",
    "        print('url오류')"
   ]
  },
  {
   "cell_type": "code",
   "execution_count": 38,
   "id": "6f2042c5-12f1-4603-ba7c-540ccf31bc2f",
   "metadata": {},
   "outputs": [
    {
     "name": "stdout",
     "output_type": "stream",
     "text": [
      "미국 USD 1,315.50 1,338.52 1,292.48\n",
      "유럽연합 EUR 1,425.54 1,453.90 1,397.18\n",
      "일본 JPY (100엔) 984.95 1,002.18 967.72\n",
      "중국 CNY 190.78 200.31 181.25\n",
      "홍콩 HKD 167.58 170.88 164.28\n",
      "대만 TWD 42.94 48.56 38.65\n",
      "영국 GBP 1,620.10 1,652.01 1,588.19\n",
      "오만 OMR 3,416.97 3,721.08 3,211.96\n",
      "캐나다 CAD 974.59 993.78 955.40\n",
      "스위스 CHF 1,432.30 1,460.51 1,404.09\n",
      "스웨덴 SEK 126.57 129.67 123.47\n",
      "호주 AUD 880.60 897.94 863.26\n",
      "뉴질랜드 NZD 819.69 835.83 803.55\n",
      "체코 CZK 60.76 65.92 55.30\n",
      "칠레 CLP 1.65 1.81 1.49\n",
      "튀르키예 TRY 68.51 N/A N/A\n",
      "몽골 MNT 0.37 N/A N/A\n",
      "이스라엘 ILS 365.72 402.29 336.47\n",
      "덴마크 DKK 191.37 196.05 186.69\n",
      "노르웨이 NOK 126.17 129.26 123.08\n",
      "사우디아라비아 SAR 350.61 372.69 326.42\n",
      "쿠웨이트 KWD 4,284.46 4,562.94 3,941.71\n",
      "바레인 BHD 3,489.48 3,712.80 3,210.33\n",
      "아랍에미리트 AED 358.19 377.89 333.48\n",
      "요르단 JOD 1,854.51 2,019.56 1,706.15\n",
      "이집트 EGP 42.50 N/A N/A\n",
      "태국 THB 38.21 40.12 35.92\n",
      "싱가포르 SGD 987.35 1,006.99 967.71\n",
      "말레이시아 MYR 297.62 316.37 275.60\n",
      "인도네시아 IDR 100 8.81 9.69 7.93\n",
      "카타르 QAR 358.42 N/A N/A\n",
      "카자흐스탄 KZT 2.91 N/A N/A\n",
      "브루나이 BND 987.35 1,026.84 928.11\n",
      "인도 INR 15.97 N/A N/A\n",
      "파키스탄 PKR 4.62 N/A N/A\n",
      "방글라데시 BDT 12.49 N/A N/A\n",
      "필리핀 PHP 24.04 26.44 22.07\n",
      "멕시코 MXN 73.10 80.41 66.96\n",
      "브라질 BRL 259.79 286.28 233.82\n",
      "베트남 VND 100 5.61 6.27 4.95\n",
      "남아프리카 공화국 ZAR 73.30 79.16 67.44\n",
      "러시아 RUB 16.94 18.54 13.98\n",
      "헝가리 HUF 3.75 4.09 3.45\n",
      "폴란드 PLN 304.70 329.07 280.33\n",
      "스리랑카 LKR 4.04 N/A N/A\n",
      "알제리 DZD 9.67 N/A N/A\n",
      "케냐 KES 9.93 N/A N/A\n",
      "콜롬비아 COP 0.28 N/A N/A\n",
      "탄자니아 TZS 0.56 N/A N/A\n",
      "네팔 NPR 9.98 N/A N/A\n",
      "루마니아 RON 288.50 N/A N/A\n",
      "리비아 LYD 275.20 N/A N/A\n",
      "마카오 MOP 162.71 N/A N/A\n",
      "미얀마 MMK 0.63 N/A N/A\n",
      "에티오피아 ETB 24.18 N/A N/A\n",
      "우즈베키스탄 UZS 0.12 N/A N/A\n",
      "캄보디아 KHR 0.32 N/A N/A\n",
      "피지 FJD 594.74 N/A N/A\n"
     ]
    }
   ],
   "source": [
    "import requests\n",
    "from bs4 import BeautifulSoup\n",
    "\n",
    "url = \"https://finance.naver.com/marketindex/exchangeList.nhn\"\n",
    "res = requests.get(url)\n",
    "soup = BeautifulSoup(res.text, \"html.parser\")\n",
    "\n",
    "table = soup.find(\"table\", {\"class\": \"tbl_exchange\"})\n",
    "tbody = table.find(\"tbody\")\n",
    "rows = tbody.find_all(\"tr\")\n",
    "\n",
    "for row in rows:\n",
    "    cols = row.find_all(\"td\")\n",
    "    print(cols[0].text.strip(), cols[1].text.strip(), cols[2].text.strip(), cols[3].text.strip())"
   ]
  }
 ],
 "metadata": {
  "kernelspec": {
   "display_name": "conda_django_kernel",
   "language": "python",
   "name": "conda_django_kernel"
  },
  "language_info": {
   "codemirror_mode": {
    "name": "ipython",
    "version": 3
   },
   "file_extension": ".py",
   "mimetype": "text/x-python",
   "name": "python",
   "nbconvert_exporter": "python",
   "pygments_lexer": "ipython3",
   "version": "3.9.16"
  }
 },
 "nbformat": 4,
 "nbformat_minor": 5
}
